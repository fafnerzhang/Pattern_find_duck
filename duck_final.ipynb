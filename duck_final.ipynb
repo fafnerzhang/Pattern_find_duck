{
 "cells": [
  {
   "cell_type": "code",
   "execution_count": 1,
   "metadata": {},
   "outputs": [
    {
     "name": "stdout",
     "output_type": "stream",
     "text": [
      "請輸入非duck圖片名稱\n",
      "non_duck.jpg\n",
      "請輸入非duck圖片名稱\n",
      "non_duck1.jpg\n",
      "請輸入非duck圖片名稱\n",
      "non_duck2.jpg\n",
      "請輸入非duck圖片名稱\n",
      "non_duck3.jpg\n"
     ]
    },
    {
     "data": {
      "text/plain": [
       "GaussianNB(priors=(0.5, 0.5), var_smoothing=1e-09)"
      ]
     },
     "execution_count": 1,
     "metadata": {},
     "output_type": "execute_result"
    }
   ],
   "source": [
    "import matplotlib.pyplot as plt\n",
    "import numpy as np\n",
    "import sklearn\n",
    "from sklearn import naive_bayes\n",
    "import cv2\n",
    "%matplotlib inline\n",
    "duck=cv2.imread('duck.jpg')\n",
    "duck=cv2.cvtColor(duck,cv2.COLOR_RGB2GRAY)\n",
    "for i in range(213):\n",
    "    for j in range(427): \n",
    "        if duck[i][j]<=225: duck[i][j]=0\n",
    "x_train=cv2.imread('duck.jpg')\n",
    "x_train=cv2.cvtColor(x_train,cv2.COLOR_RGB2GRAY)\n",
    "x_train=np.reshape(x_train,(213*427,1))\n",
    "y_train=np.zeros((213,427))\n",
    "for i in range(213):\n",
    "    for j in range(427):\n",
    "        if duck[i][j]>0:\n",
    "            y_train[i][j]=1\n",
    "y_train=np.reshape(y_train,(213*427))\n",
    "for i in range(4):\n",
    "    print('請輸入非duck圖片名稱')\n",
    "    non_duck=cv2.imread(input())\n",
    "    non_duck=cv2.cvtColor(non_duck,cv2.COLOR_RGB2GRAY)\n",
    "    x_train_non=np.reshape(non_duck,(non_duck.shape[0]*non_duck.shape[1],1))\n",
    "    y_train_non=np.zeros((non_duck.shape[0]*non_duck.shape[1]))\n",
    "    x_train=np.concatenate((x_train,x_train_non))\n",
    "    x_train=np.concatenate((x_train,x_train_non))\n",
    "    y_train=np.concatenate((y_train,y_train_non))\n",
    "    y_train=np.concatenate((y_train,y_train_non))\n",
    "bayesian=sklearn.naive_bayes.GaussianNB(priors=(0.5,0.5))\n",
    "bayesian.fit(x_train,y_train)"
   ]
  },
  {
   "cell_type": "code",
   "execution_count": 2,
   "metadata": {},
   "outputs": [
    {
     "data": {
      "text/plain": [
       "(2719447, 1)"
      ]
     },
     "execution_count": 2,
     "metadata": {},
     "output_type": "execute_result"
    }
   ],
   "source": [
    "x_train.shape"
   ]
  },
  {
   "cell_type": "code",
   "execution_count": 3,
   "metadata": {},
   "outputs": [
    {
     "data": {
      "text/plain": [
       "True"
      ]
     },
     "execution_count": 3,
     "metadata": {},
     "output_type": "execute_result"
    },
    {
     "data": {
      "image/png": "[encoded data removed]",
      "text/plain": [
       "<Figure size 432x288 with 1 Axes>"
      ]
     },
     "metadata": {
      "needs_background": "light"
     },
     "output_type": "display_data"
    }
   ],
   "source": [
    "fullduck=cv2.imread('full_duck.jpg')\n",
    "fullduck=cv2.cvtColor(fullduck,cv2.COLOR_RGB2GRAY)\n",
    "plt.imshow(fullduck,cmap='gray')\n",
    "fullduck=np.reshape(fullduck,(13816*5946,1))\n",
    "result=bayesian.predict(fullduck)\n",
    "result=np.reshape(result,(13816,5946))\n",
    "for i in range(13816):\n",
    "    for j in range(5946):\n",
    "        if result[i][j]>0:\n",
    "            result[i][j]=240\n",
    "plt.imshow(result,cmap='gray')\n",
    "cv2.imwrite('output1.jpg', result)"
   ]
  },
  {
   "cell_type": "code",
   "execution_count": null,
   "metadata": {},
   "outputs": [],
   "source": [
    "import numpy as np\n",
    "import matplotlib.pyplot as plt\n",
    "from scipy import ndimage as ndi\n",
    "\n",
    "from skimage import feature\n",
    "%matplotlib inline\n",
    "edges2 = feature.canny(result, sigma=3)\n",
    "ax3.imshow(edges2, cmap=plt.cm.gray)\n",
    "ax3.axis('off')\n",
    "ax3.set_title('Canny filter, $\\sigma=3$', fontsize=20)\n",
    "\n",
    "fig.tight_layout()\n",
    "\n",
    "plt.show()"
   ]
  },
  {
   "cell_type": "code",
   "execution_count": null,
   "metadata": {},
   "outputs": [],
   "source": []
  }
 ],
 "metadata": {
  "kernelspec": {
   "display_name": "Python 3",
   "language": "python",
   "name": "python3"
  },
  "language_info": {
   "codemirror_mode": {
    "name": "ipython",
    "version": 3
   },
   "file_extension": ".py",
   "mimetype": "text/x-python",
   "name": "python",
   "nbconvert_exporter": "python",
   "pygments_lexer": "ipython3",
   "version": "3.6.7"
  }
 },
 "nbformat": 4,
 "nbformat_minor": 2
}
