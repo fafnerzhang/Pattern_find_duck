{
 "cells": [
  {
   "cell_type": "code",
   "execution_count": 6,
   "metadata": {
    "scrolled": true
   },
   "outputs": [
    {
     "name": "stdout",
     "output_type": "stream",
     "text": [
      "duck筆數5\n",
      "non_duck筆數12\n",
      "duck0.jpg load complete\n",
      "duck1.jpg load complete\n",
      "duck2.jpg load complete\n",
      "duck3.jpg load complete\n",
      "duck4.jpg load complete\n",
      "non_duck0.jpg load complete\n",
      "non_duck1.jpg load complete\n",
      "non_duck2.jpg load complete\n",
      "non_duck3.jpg load complete\n",
      "non_duck4.jpg load complete\n",
      "non_duck5.jpg load complete\n",
      "non_duck6.jpg load complete\n",
      "non_duck7.jpg load complete\n",
      "non_duck8.jpg load complete\n",
      "non_duck9.jpg load complete\n",
      "non_duck10.jpg load complete\n",
      "non_duck11.jpg load complete\n"
     ]
    },
    {
     "data": {
      "text/plain": [
       "GaussianNB(priors=(0.5, 0.5), var_smoothing=1e-09)"
      ]
     },
     "execution_count": 6,
     "metadata": {},
     "output_type": "execute_result"
    }
   ],
   "source": [
    "import matplotlib.pyplot as plt\n",
    "import numpy as np\n",
    "import sklearn\n",
    "from sklearn import naive_bayes\n",
    "import cv2\n",
    "%matplotlib inline\n",
    "#給定duck與non_duck筆數,宣告x_train,y_train\n",
    "duck_count=int(input('duck筆數'))\n",
    "non_duck_count=int(input('non_duck筆數'))\n",
    "x_train=np.zeros((1,1))\n",
    "y_train=np.zeros((1))\n",
    "#自動將duck_pixel處理為x_train資料\n",
    "for i in range(duck_count):\n",
    "    img_name='duck'+str(i)+'.jpg'\n",
    "    duck=cv2.imread(img_name)\n",
    "    duck=cv2.cvtColor(duck,cv2.COLOR_RGB2GRAY)\n",
    "    duck=np.reshape(duck,(duck.shape[0]*duck.shape[1],1))\n",
    "    x_train=np.concatenate((x_train,duck))\n",
    "    duck=np.reshape(duck,(duck.shape[0]*duck.shape[1]))\n",
    "    #將pixel值小於225的pixel設為0\n",
    "    for i in range(duck.shape[0]):\n",
    "        if duck[i]<225:\n",
    "            duck[i]=0\n",
    "    #利用處理完的duck_pixel建立Label (y_train)\n",
    "    y_train_duck=np.zeros((duck.shape))\n",
    "    for i in range(duck.shape[0]):\n",
    "        if duck[i]>0:\n",
    "            y_train_duck[i]=1\n",
    "    y_train=np.concatenate((y_train,y_train_duck))\n",
    "    print(img_name,'load complete')\n",
    "#自動將non_duck_pixel處理為x_train資料\n",
    "for i in range(non_duck_count):\n",
    "    img_name='non_duck'+str(i)+'.jpg'\n",
    "    non_duck=cv2.imread(img_name)\n",
    "    non_duck=cv2.cvtColor(non_duck,cv2.COLOR_RGB2GRAY)\n",
    "    x_train_non=np.reshape(non_duck,(non_duck.shape[0]*non_duck.shape[1],1))\n",
    "    y_train_non=np.zeros((non_duck.shape[0]*non_duck.shape[1]))\n",
    "    x_train=np.concatenate((x_train,x_train_non))\n",
    "    y_train=np.concatenate((y_train,y_train_non))\n",
    "    print(img_name,'load complete')\n",
    "#bayesian 兩類特徵機率皆為0.5\n",
    "bayesian=sklearn.naive_bayes.GaussianNB(priors=(0.5,0.5))\n",
    "bayesian.fit(x_train,y_train)\n"
   ]
  },
  {
   "cell_type": "code",
   "execution_count": 2,
   "metadata": {},
   "outputs": [
    {
     "data": {
      "text/plain": [
       "True"
      ]
     },
     "execution_count": 2,
     "metadata": {},
     "output_type": "execute_result"
    },
    {
     "data": {
      "image/png": "[encoded data removed]",
      "text/plain": [
       "<Figure size 432x288 with 1 Axes>"
      ]
     },
     "metadata": {
      "needs_background": "light"
     },
     "output_type": "display_data"
    }
   ],
   "source": [
    "#讀入full_duck做辨識\n",
    "fullduck=cv2.imread('full_duck.jpg')\n",
    "fullduck=cv2.cvtColor(fullduck,cv2.COLOR_RGB2GRAY)\n",
    "plt.imshow(fullduck,cmap='gray')\n",
    "fullduck=np.reshape(fullduck,(13816*5946,1))\n",
    "#利用訓練好之model預測full_duck_pixel為duck_pixel or non_duck_pixel\n",
    "result=bayesian.predict(fullduck)\n",
    "result=np.reshape(result,(13816,5946))\n",
    "fullduck=np.reshape(fullduck,(13816,5946))\n",
    "for i in range(13816):\n",
    "    for j in range(5946):\n",
    "        if result[i][j]==0:\n",
    "            fullduck[i][j]=0\n",
    "plt.imshow(fullduck,cmap='gray')\n",
    "cv2.imwrite('output_final.jpg', fullduck)"
   ]
  },
  {
   "cell_type": "code",
   "execution_count": 3,
   "metadata": {},
   "outputs": [
    {
     "name": "stdout",
     "output_type": "stream",
     "text": [
      "model theta\n",
      " [[114.72653587]\n",
      " [246.78793639]]\n",
      "model sigma\n",
      " [[2066.10827094]\n",
      " [  55.79143618]]\n",
      "training sample\n",
      " [19787268.   351404.]\n"
     ]
    }
   ],
   "source": [
    "#印出model兩類之平均與標準差\n",
    "print('model theta\\n',bayesian.theta_)\n",
    "print('model sigma\\n',bayesian.sigma_)\n",
    "print('training sample\\n',bayesian.class_count_)"
   ]
  },
  {
   "cell_type": "code",
   "execution_count": 4,
   "metadata": {},
   "outputs": [
    {
     "name": "stderr",
     "output_type": "stream",
     "text": [
      "C:\\Users\\Paul\\Anaconda3\\envs\\opencv\\lib\\site-packages\\ipykernel_launcher.py:10: MatplotlibDeprecationWarning: scipy.stats.norm.pdf\n",
      "  # Remove the CWD from sys.path while we load stuff.\n",
      "C:\\Users\\Paul\\Anaconda3\\envs\\opencv\\lib\\site-packages\\ipykernel_launcher.py:11: MatplotlibDeprecationWarning: scipy.stats.norm.pdf\n",
      "  # This is added back by InteractiveShellApp.init_path()\n"
     ]
    },
    {
     "data": {
      "image/png": "[encoded data removed]",
      "text/plain": [
       "<Figure size 432x288 with 1 Axes>"
      ]
     },
     "metadata": {
      "needs_background": "light"
     },
     "output_type": "display_data"
    }
   ],
   "source": [
    "#兩類資料之高斯分布\n",
    "import matplotlib.mlab as mlab\n",
    "import math\n",
    "mu =bayesian.theta_[0][0]\n",
    "sigma =bayesian.sigma_[0][0]**0.5\n",
    "x1 = np.linspace(mu - 3*sigma, mu + 3*sigma, 100)\n",
    "mu2=bayesian.theta_[1][0]\n",
    "sigma2=bayesian.sigma_[1][0]**0.5\n",
    "x2 = np.linspace(mu2 - 3*sigma2, mu2 + 3*sigma2, 100)\n",
    "x=np.linspace(0,255)\n",
    "#blue為non_duck_pixel分布,red為duck_pixel分布\n",
    "plt.plot(x1,mlab.normpdf(x1, mu, sigma),c='blue')\n",
    "plt.plot(x2,mlab.normpdf(x2, mu2, sigma2),c='red')\n",
    "plt.savefig(\"sample_Gaussian.jpg\")\n",
    "plt.show()"
   ]
  },
  {
   "cell_type": "code",
   "execution_count": 5,
   "metadata": {},
   "outputs": [
    {
     "name": "stderr",
     "output_type": "stream",
     "text": [
      "C:\\Users\\Paul\\Anaconda3\\envs\\opencv\\lib\\site-packages\\ipykernel_launcher.py:10: MatplotlibDeprecationWarning: scipy.stats.norm.pdf\n",
      "  # Remove the CWD from sys.path while we load stuff.\n",
      "C:\\Users\\Paul\\Anaconda3\\envs\\opencv\\lib\\site-packages\\ipykernel_launcher.py:11: MatplotlibDeprecationWarning: scipy.stats.norm.pdf\n",
      "  # This is added back by InteractiveShellApp.init_path()\n"
     ]
    },
    {
     "data": {
      "image/png": "[encoded data removed]",
      "text/plain": [
       "<Figure size 432x288 with 1 Axes>"
      ]
     },
     "metadata": {
      "needs_background": "light"
     },
     "output_type": "display_data"
    }
   ],
   "source": [
    "# gaussian model test\n",
    "import matplotlib.mlab as mlab\n",
    "import math\n",
    "mu =106.96579745\n",
    "sigma =1817.25588302**0.5\n",
    "x1 = np.linspace(mu - 3*sigma, mu + 3*sigma, 100)\n",
    "mu2=246.96092199\n",
    "sigma2=52.4354697**0.5\n",
    "x2 = np.linspace(mu2 - 3*sigma2, mu2 + 3*sigma2, 100)\n",
    "x=np.linspace(0,255)\n",
    "plt.plot(x1,mlab.normpdf(x1, mu, sigma),c='blue')\n",
    "plt.plot(x2,mlab.normpdf(x2, mu2, sigma2),c='red')\n",
    "plt.savefig(\"Gaussian distribution.jpg\")\n",
    "plt.show()"
   ]
  },
  {
   "cell_type": "code",
   "execution_count": null,
   "metadata": {},
   "outputs": [],
   "source": []
  }
 ],
 "metadata": {
  "kernelspec": {
   "display_name": "Python 3",
   "language": "python",
   "name": "python3"
  },
  "language_info": {
   "codemirror_mode": {
    "name": "ipython",
    "version": 3
   },
   "file_extension": ".py",
   "mimetype": "text/x-python",
   "name": "python",
   "nbconvert_exporter": "python",
   "pygments_lexer": "ipython3",
   "version": "3.6.7"
  }
 },
 "nbformat": 4,
 "nbformat_minor": 2
}
